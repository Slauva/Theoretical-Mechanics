{
 "cells": [
  {
   "cell_type": "code",
   "execution_count": 2,
   "id": "7cff9e6c",
   "metadata": {},
   "outputs": [],
   "source": [
    "import sympy as sp\n",
    "import numpy as np\n",
    "from IPython import display"
   ]
  },
  {
   "cell_type": "code",
   "execution_count": 25,
   "id": "888a3824",
   "metadata": {},
   "outputs": [],
   "source": [
    "N2, N3, g, M1, M2, M3, T1, T2, a, angle, M0, t = sp.symbols(\"N2, N3, g, M1, M2, M3, T1, T2, a, \\\\alpha, M0, t\")\n",
    "\n",
    "cos = sp.cos(angle)\n",
    "sin = sp.sin(angle)"
   ]
  },
  {
   "cell_type": "code",
   "execution_count": 19,
   "id": "f1284864",
   "metadata": {},
   "outputs": [],
   "source": [
    "m1, m2, m3, gr = 20, 15, 10, 9.8\n",
    "ang = np.pi / 3  # 60deg\n",
    "G1 = M1 * g\n",
    "G2 = M2 * g\n",
    "G3 = M3 * g"
   ]
  },
  {
   "cell_type": "code",
   "execution_count": 20,
   "id": "3965b152",
   "metadata": {},
   "outputs": [
    {
     "data": {
      "text/latex": [
       "$\\displaystyle T_{2} + 20 a - 196.0$"
      ]
     },
     "metadata": {},
     "output_type": "display_data"
    },
    {
     "data": {
      "text/latex": [
       "$\\displaystyle N_{2} - 147.0$"
      ]
     },
     "metadata": {},
     "output_type": "display_data"
    },
    {
     "data": {
      "text/latex": [
       "$\\displaystyle 0.5 N_{3} + 0.866025403784439 T_{1} - 8.66025403784439 a - 98.0$"
      ]
     },
     "metadata": {},
     "output_type": "display_data"
    },
    {
     "data": {
      "text/latex": [
       "$\\displaystyle - T_{1} + T_{2} - 15 a$"
      ]
     },
     "metadata": {},
     "output_type": "display_data"
    },
    {
     "data": {
      "text/latex": [
       "$\\displaystyle - 0.866025403784439 N_{3} + 0.5 T_{1} - 5.0 a$"
      ]
     },
     "metadata": {},
     "output_type": "display_data"
    }
   ],
   "source": [
    "y1 = T2 - G1 + M1 * a\n",
    "y2 = N2 - G2\n",
    "x2 = T2 - T1 - M2 * a\n",
    "y3 = T1 * sin + N3 * cos - G3 - M3 * a * sin\n",
    "x3 = T1 * cos - N3 * sin - M3 * a * cos\n",
    "\n",
    "y1 = y1.subs({\"M1\": m1, \"g\": gr})\n",
    "y2 = y2.subs({\"M2\": m2, \"g\": gr})\n",
    "y3 = y3.subs({\"M3\": m3, \"g\": gr, \"\\\\alpha\": ang})\n",
    "x2 = x2.subs({\"M2\": m2})\n",
    "x3 = x3.subs({\"M3\": m3, \"\\\\alpha\": ang})\n",
    "display.display_latex(y1, y2, y3, x2, x3)"
   ]
  },
  {
   "cell_type": "code",
   "execution_count": 21,
   "id": "5e31a4f6",
   "metadata": {},
   "outputs": [
    {
     "name": "stdout",
     "output_type": "stream",
     "text": [
      "T1: 109.565936332903\n",
      "T2: 146.609106475944\n",
      "N2: 147.000000000000\n",
      "N3: 49.0000000000000\n",
      "a: 2.46954467620278\n"
     ]
    }
   ],
   "source": [
    "eq = [y1, y2, x2, y3, x3]\n",
    "var = [T1, T2, N2, N3, a]\n",
    "sol = sp.linsolve(eq, var)\n",
    "\n",
    "t1, t2, n2, n3, acc = sol.args[0]\n",
    "print(f\"T1: {t1}\\nT2: {t2}\\nN2: {n2}\\nN3: {n3}\\na: {acc}\")"
   ]
  },
  {
   "cell_type": "code",
   "execution_count": 24,
   "id": "84389046",
   "metadata": {},
   "outputs": [
    {
     "data": {
      "text/latex": [
       "$\\displaystyle \\frac{49.3908935240556}{M_{0} + 45}$"
      ],
      "text/plain": [
       "49.3908935240556/(M0 + 45)"
      ]
     },
     "execution_count": 24,
     "metadata": {},
     "output_type": "execute_result"
    }
   ],
   "source": [
    "a_r = (-N3 * sin - T1 + T2 + T1 * cos) / (M1 + M2 + M3 + M0)\n",
    "a_r = a_r.subs({\"T1\": t1, \"T2\": t2, \"N3\": n3, \"\\\\alpha\": ang, \"M1\": m1, \"M2\": m2, \"M3\": m3})\n",
    "a_r"
   ]
  },
  {
   "cell_type": "code",
   "execution_count": 26,
   "id": "3463507b",
   "metadata": {},
   "outputs": [
    {
     "data": {
      "text/latex": [
       "$\\displaystyle \\frac{49.3908935240556 t}{M_{0} + 45}$"
      ],
      "text/plain": [
       "49.3908935240556*t/(M0 + 45)"
      ]
     },
     "execution_count": 26,
     "metadata": {},
     "output_type": "execute_result"
    }
   ],
   "source": [
    "v_r = sp.integrate(a_r, t)\n",
    "v_r"
   ]
  },
  {
   "cell_type": "code",
   "execution_count": 34,
   "id": "14b2bec3",
   "metadata": {},
   "outputs": [],
   "source": [
    "t = (-M2 -M3*cos)/(-N3*sin - T1 + T2 + T1 * cos)\n",
    "t = t.subs({\"M2\": m2, \"M3\": m3, \"\\\\alpha\": ang, \"N3\": n3, \"T1\": t1, \"T2\": t2})\n",
    "t = -t"
   ]
  },
  {
   "cell_type": "code",
   "execution_count": 35,
   "id": "c6c7b8c6",
   "metadata": {},
   "outputs": [
    {
     "data": {
      "text/latex": [
       "$\\displaystyle 0.404932945589638$"
      ],
      "text/plain": [
       "0.404932945589638"
      ]
     },
     "execution_count": 35,
     "metadata": {},
     "output_type": "execute_result"
    }
   ],
   "source": [
    "t"
   ]
  },
  {
   "cell_type": "code",
   "execution_count": 36,
   "id": "6f0cf10d",
   "metadata": {},
   "outputs": [
    {
     "data": {
      "text/latex": [
       "$\\displaystyle 0.636343417966775$"
      ],
      "text/plain": [
       "0.636343417966775"
      ]
     },
     "execution_count": 36,
     "metadata": {},
     "output_type": "execute_result"
    }
   ],
   "source": [
    "t = sp.sqrt(t)\n",
    "t"
   ]
  },
  {
   "cell_type": "code",
   "execution_count": null,
   "id": "65b1c21a",
   "metadata": {},
   "outputs": [],
   "source": []
  }
 ],
 "metadata": {
  "kernelspec": {
   "display_name": "Python 3 (ipykernel)",
   "language": "python",
   "name": "python3"
  },
  "language_info": {
   "codemirror_mode": {
    "name": "ipython",
    "version": 3
   },
   "file_extension": ".py",
   "mimetype": "text/x-python",
   "name": "python",
   "nbconvert_exporter": "python",
   "pygments_lexer": "ipython3",
   "version": "3.8.10"
  }
 },
 "nbformat": 4,
 "nbformat_minor": 5
}
