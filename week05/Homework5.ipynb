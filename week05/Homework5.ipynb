{
 "cells": [
  {
   "cell_type": "code",
   "execution_count": 1,
   "id": "cb613ee7",
   "metadata": {},
   "outputs": [],
   "source": [
    "import sympy as sp\n",
    "import scipy as sc\n",
    "from scipy.integrate import odeint\n",
    "import numpy as np\n",
    "import matplotlib.pyplot as plt\n",
    "from IPython.display import display, Math, Latex, display_latex"
   ]
  },
  {
   "cell_type": "code",
   "execution_count": 20,
   "id": "80308e4a",
   "metadata": {},
   "outputs": [],
   "source": [
    "# t, v0, a, g, k, L, m, Cx1, Cx2 = sp.symbols(\"t, v0, \\\\alpha, g, k, L, m, C^x_1,  C^x_2\")\n",
    "\n",
    "length = 1500\n",
    "velocity = 870\n",
    "koef = 1.3 * 10 ** (-5)\n",
    "massa = 13.6 * 10 ** (-3)\n",
    "gravity = 9.8\n",
    "time = np.linspace(0, 50, 1000)\n",
    "angles = np.linspace(0, 90, 10000)"
   ]
  },
  {
   "cell_type": "code",
   "execution_count": 21,
   "id": "c1499904",
   "metadata": {},
   "outputs": [],
   "source": [
    "def pprint(*el):\n",
    "    for eq in el:\n",
    "        display_latex(eq)"
   ]
  },
  {
   "cell_type": "code",
   "execution_count": 53,
   "id": "18e85dc9",
   "metadata": {},
   "outputs": [],
   "source": [
    "def plot(x_axis, y_axis, label, **kwargs):\n",
    "    fig, ax = plt.subplots()\n",
    "    ax.plot(x_axis, y_axis, label=label, **kwargs)\n",
    "    plt.legend()\n",
    "    plt.grid()\n",
    "    plt.show()    "
   ]
  },
  {
   "cell_type": "markdown",
   "id": "c9ab7e90",
   "metadata": {},
   "source": [
    "## Task 1(1, 2)\n",
    "We need to calculate the optimal angle for sniper to shoot his enemy. \n",
    "\n",
    "At first, we need to consider the motion of the particle w/o air resistance. Than:\n",
    "\n",
    "$y = y_0 + v_0*sin(\\alpha) - \\frac{g*t^2}{2}$\n",
    "\n",
    "$x = x_0 + v_0 * cos(\\alpha) * t$\n",
    "\n",
    "From both eq-n, we can express the full time: $\\tau = \\frac{2*v_0*sin(\\alpha)}{g}$\n",
    "\n",
    "Now we can find the formula of the length: $L = \\frac{v^2_0*sin(2\\alpha)}{g}$\n",
    "\n",
    "And finaly, we can express the formula of max height: $H_{max} = \\frac{v^2_0*sin(\\alpha)^2}{2g}$"
   ]
  },
  {
   "cell_type": "code",
   "execution_count": 37,
   "id": "65a57ba3",
   "metadata": {},
   "outputs": [
    {
     "name": "stdout",
     "output_type": "stream",
     "text": [
      "Max height: 3.6418416633765913 m\n",
      "Angle: 0.009711272471294132 rad\n"
     ]
    }
   ],
   "source": [
    "a1 = np.arcsin(length * gravity / velocity**2) / 2\n",
    "h1 = velocity**2 * np.sin(a1)**2 / 2 / gravity\n",
    "print(f\"Max height: {h1} m\\nAngle: {a1} rad\")"
   ]
  },
  {
   "cell_type": "markdown",
   "id": "a22e0891",
   "metadata": {},
   "source": [
    "## Task 1 (3)\n",
    "We need to find the optimal angle for sniper with considering the air resistance."
   ]
  },
  {
   "cell_type": "markdown",
   "id": "a36f5284",
   "metadata": {},
   "source": [
    "#### Condition:\n",
    "\n",
    "\"init\": $x_0 = 0, y_0 = 0, \\dot{x_0} = v_0*cos(\\alpha), \\dot{y_0} = v_0 * sin(\\alpha), t_0 = 0$\n",
    "\n",
    "\"finish\": $x_f = L, y_f = 0, \\dot{x_f} = ?, \\dot{y_f} = ?, t_f = ?$\n",
    "\n",
    "#### Force analysis:\n",
    "\n",
    "Bullet - particle - curve motion:\n",
    "\n",
    "$G = m * g$, $F_c(t) = -kvV$\n",
    "\n",
    "#### Solution:\n",
    "\n",
    "Using the second Newton's Law, we can determine the acceleration of the bullet.\n",
    "\n",
    "$m\\ddot{x} = - k * \\sqrt{\\dot{x}^2 + \\dot{y}^2} * \\dot{x}$\n",
    "\n",
    "$m\\ddot{y} = - k * \\sqrt{\\dot{x}^2 + \\dot{y}^2} * \\dot{y} - mg$\n",
    "\n",
    "Now, to find optimal angle and time, we can use the numerical option:\n",
    "\n",
    "$$ \\frac{\\mathrm{d}}{\\mathrm{d}t}\\begin{pmatrix}x \\\\ y \\\\ v_x \\\\ v_y\\end{pmatrix} = \\begin{pmatrix}v_x \\\\ v_y \\\\ -\\mu\\,v_x\\sqrt{v_x^2+v_y^2} \\\\ -g-\\mu\\,v_y\\sqrt{v_x^2+v_y^2}\\end{pmatrix} $$"
   ]
  },
  {
   "cell_type": "code",
   "execution_count": 38,
   "id": "c28d128a",
   "metadata": {},
   "outputs": [],
   "source": [
    "def system(s, t, k, g, m):\n",
    "    x, y, vx, vy = s\n",
    "    return [\n",
    "        vx,\n",
    "        vy,\n",
    "        -k/m * np.sqrt(vx**2 + vy**2) * vx,\n",
    "        -g - k/m * np.sqrt(vx**2 + vy**2) * vy\n",
    "    ]"
   ]
  },
  {
   "cell_type": "code",
   "execution_count": 44,
   "id": "b1b888c3",
   "metadata": {},
   "outputs": [],
   "source": [
    "def maxx(arr):\n",
    "    k = 0\n",
    "    for i in range(len(arr) - 1):\n",
    "        if arr[i] >= 0 and arr[i+1] <= 0:\n",
    "            return i\n",
    "    return k"
   ]
  },
  {
   "cell_type": "code",
   "execution_count": 47,
   "id": "023b27b0",
   "metadata": {
    "scrolled": false
   },
   "outputs": [
    {
     "name": "stdout",
     "output_type": "stream",
     "text": [
      "Angle: 69.05490549054906, X: 1499.9520478326046m, Y: 2049.7997352036436m, T: 41.74174174174174s\n"
     ]
    },
    {
     "data": {
      "image/png": "[encoded data removed]",
      "text/plain": [
       "<Figure size 432x288 with 1 Axes>"
      ]
     },
     "metadata": {
      "needs_background": "light"
     },
     "output_type": "display_data"
    },
    {
     "name": "stdout",
     "output_type": "stream",
     "text": [
      "Angle: 69.06390639063906, X: 1499.3992928938542m, Y: 2049.9707073502977m, T: 41.74174174174174s\n"
     ]
    },
    {
     "data": {
      "image/png": "[encoded data removed]",
      "text/plain": [
       "<Figure size 432x288 with 1 Axes>"
      ]
     },
     "metadata": {
      "needs_background": "light"
     },
     "output_type": "display_data"
    }
   ],
   "source": [
    "s = []\n",
    "for angle in angles:\n",
    "    s0 = [0, 0, velocity * np.cos(angle * np.pi / 180), velocity * np.sin(angle * np.pi / 180)]\n",
    "    solution = odeint(system, s0, time, args=(koef, gravity, massa))\n",
    "    x_max = np.max(solution[:,0])\n",
    "    y_max = np.max(solution[:,1])\n",
    "    x_index = maxx(solution[:,1])\n",
    "    if np.ceil(x_max) == length:\n",
    "        print(f\"Angle: {angle}, X: {x_max}m, Y: {y_max}m, T: {time[x_index]}s\")\n",
    "        plot(t, solution, [r\"x(t)\", r\"y(t)\", r\"v_x(t)\", r\"v_y(t)\"])\n",
    "        s.append(solution)"
   ]
  },
  {
   "cell_type": "code",
   "execution_count": 54,
   "id": "afd75978",
   "metadata": {},
   "outputs": [
    {
     "data": {
      "image/png": "[encoded data removed]",
      "text/plain": [
       "<Figure size 432x288 with 1 Axes>"
      ]
     },
     "metadata": {
      "needs_background": "light"
     },
     "output_type": "display_data"
    }
   ],
   "source": [
    "fc = []\n",
    "ss = s[0]\n",
    "for i in range(len(s[0][:, 0])):\n",
    "    vx = ss[:, 2][i]\n",
    "    vy = ss[:, 3][i]\n",
    "    f = - koef * np.sqrt(vx**2 + vy**2) ** 2\n",
    "    fc.append(f)\n",
    "    \n",
    "plot(time, fc, r\"$F_c(t)$\")"
   ]
  },
  {
   "cell_type": "markdown",
   "id": "e47dc54b",
   "metadata": {},
   "source": [
    "## Report for task 1.3\n",
    "\n",
    "The optimal angle for shoot is $69.0549deg$"
   ]
  },
  {
   "cell_type": "code",
   "execution_count": null,
   "id": "da1d8a77",
   "metadata": {},
   "outputs": [],
   "source": []
  }
 ],
 "metadata": {
  "kernelspec": {
   "display_name": "Python 3 (ipykernel)",
   "language": "python",
   "name": "python3"
  },
  "language_info": {
   "codemirror_mode": {
    "name": "ipython",
    "version": 3
   },
   "file_extension": ".py",
   "mimetype": "text/x-python",
   "name": "python",
   "nbconvert_exporter": "python",
   "pygments_lexer": "ipython3",
   "version": "3.8.10"
  }
 },
 "nbformat": 4,
 "nbformat_minor": 5
}
