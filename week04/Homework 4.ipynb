{
 "cells": [
  {
   "cell_type": "code",
   "execution_count": 1,
   "id": "a9a61854",
   "metadata": {},
   "outputs": [],
   "source": [
    "import sympy as sp\n",
    "import numpy as np"
   ]
  },
  {
   "cell_type": "code",
   "execution_count": 2,
   "id": "74c6fbf8",
   "metadata": {},
   "outputs": [],
   "source": [
    "R_1, R_2, R_3, R_4, R_5, R_6, G, P, a, b, c = sp.symbols(\"R_1 R_2 R_3 R_4 R_5 R_6 G P a b c\")\n",
    "aa = 4\n",
    "bb = 4.5\n",
    "cc = 3.5\n",
    "gg = 18\n",
    "pp = 30"
   ]
  },
  {
   "cell_type": "code",
   "execution_count": 3,
   "id": "b627243d",
   "metadata": {},
   "outputs": [
    {
     "data": {
      "text/latex": [
       "$\\displaystyle - \\frac{R_{4} a}{\\sqrt{a^{2} + c^{2}}} - \\frac{R_{6} a}{\\sqrt{a^{2} + c^{2}}}$"
      ],
      "text/plain": [
       "-R_4*a/sqrt(a**2 + c**2) - R_6*a/sqrt(a**2 + c**2)"
      ]
     },
     "execution_count": 3,
     "metadata": {},
     "output_type": "execute_result"
    }
   ],
   "source": [
    "ox = -R_4 * a / sp.sqrt(a**2 + c**2) - R_6 * a / sp.sqrt(a**2 + c**2)\n",
    "ox"
   ]
  },
  {
   "cell_type": "code",
   "execution_count": 4,
   "id": "e359060b",
   "metadata": {},
   "outputs": [
    {
     "data": {
      "text/latex": [
       "$\\displaystyle - 0.752576694706878 R_{4} - 0.752576694706878 R_{6}$"
      ],
      "text/plain": [
       "-0.752576694706878*R_4 - 0.752576694706878*R_6"
      ]
     },
     "execution_count": 4,
     "metadata": {},
     "output_type": "execute_result"
    }
   ],
   "source": [
    "ox = ox.subs({\"a\": aa, \"c\": cc})\n",
    "ox"
   ]
  },
  {
   "cell_type": "code",
   "execution_count": 5,
   "id": "d14c3419",
   "metadata": {},
   "outputs": [
    {
     "data": {
      "text/latex": [
       "$\\displaystyle P - \\frac{R_{2} b}{\\sqrt{b^{2} + c^{2}}}$"
      ],
      "text/plain": [
       "P - R_2*b/sqrt(b**2 + c**2)"
      ]
     },
     "execution_count": 5,
     "metadata": {},
     "output_type": "execute_result"
    }
   ],
   "source": [
    "oy = P - R_2 * b / sp.sqrt(b**2 + c**2)\n",
    "oy"
   ]
  },
  {
   "cell_type": "code",
   "execution_count": 6,
   "id": "7ae93a5d",
   "metadata": {},
   "outputs": [
    {
     "data": {
      "text/latex": [
       "$\\displaystyle 30 - 0.789352217376326 R_{2}$"
      ],
      "text/plain": [
       "30 - 0.789352217376326*R_2"
      ]
     },
     "execution_count": 6,
     "metadata": {},
     "output_type": "execute_result"
    }
   ],
   "source": [
    "oy = oy.subs({\"b\": bb, \"c\":cc, \"P\": pp})\n",
    "oy"
   ]
  },
  {
   "cell_type": "code",
   "execution_count": 7,
   "id": "a34c4609",
   "metadata": {},
   "outputs": [
    {
     "data": {
      "text/latex": [
       "$\\displaystyle - G + R_{1} + \\frac{R_{2} c}{\\sqrt{b^{2} + c^{2}}} + R_{3} + \\frac{R_{4} c}{\\sqrt{a^{2} + c^{2}}} + R_{5} + \\frac{R_{6} c}{\\sqrt{a^{2} + c^{2}}}$"
      ],
      "text/plain": [
       "-G + R_1 + R_2*c/sqrt(b**2 + c**2) + R_3 + R_4*c/sqrt(a**2 + c**2) + R_5 + R_6*c/sqrt(a**2 + c**2)"
      ]
     },
     "execution_count": 7,
     "metadata": {},
     "output_type": "execute_result"
    }
   ],
   "source": [
    "oz = R_1 + R_3 + R_5 + R_2 * c / sp.sqrt(b**2 + c**2) + R_4 * c / sp.sqrt(a**2 + c**2) + R_6 * c / sp.sqrt(a**2 + c**2) - G\n",
    "oz"
   ]
  },
  {
   "cell_type": "code",
   "execution_count": 8,
   "id": "5301fc9f",
   "metadata": {},
   "outputs": [
    {
     "data": {
      "text/latex": [
       "$\\displaystyle R_{1} + 0.61394061351492 R_{2} + R_{3} + 0.658504607868518 R_{4} + R_{5} + 0.658504607868518 R_{6} - 18$"
      ],
      "text/plain": [
       "R_1 + 0.61394061351492*R_2 + R_3 + 0.658504607868518*R_4 + R_5 + 0.658504607868518*R_6 - 18"
      ]
     },
     "execution_count": 8,
     "metadata": {},
     "output_type": "execute_result"
    }
   ],
   "source": [
    "oz = oz.subs({\"a\": aa, \"b\": bb, \"c\": cc, \"G\": gg})\n",
    "oz"
   ]
  },
  {
   "cell_type": "code",
   "execution_count": 9,
   "id": "8cfd6426",
   "metadata": {},
   "outputs": [
    {
     "data": {
      "text/latex": [
       "$\\displaystyle - \\frac{G b}{2} - R_{3} b - \\frac{R_{4} b c}{\\sqrt{a^{2} + c^{2}}} - R_{5} b$"
      ],
      "text/plain": [
       "-G*b/2 - R_3*b - R_4*b*c/sqrt(a**2 + c**2) - R_5*b"
      ]
     },
     "execution_count": 9,
     "metadata": {},
     "output_type": "execute_result"
    }
   ],
   "source": [
    "mx = -R_3 *b-R_5*b-R_4*b *c / sp.sqrt(a**2 + c**2) - G * b / 2\n",
    "mx"
   ]
  },
  {
   "cell_type": "code",
   "execution_count": 10,
   "id": "066d22e3",
   "metadata": {},
   "outputs": [
    {
     "data": {
      "text/latex": [
       "$\\displaystyle - 4.5 R_{3} - 2.96327073540833 R_{4} - 4.5 R_{5} - 40.5$"
      ],
      "text/plain": [
       "-4.5*R_3 - 2.96327073540833*R_4 - 4.5*R_5 - 40.5"
      ]
     },
     "execution_count": 10,
     "metadata": {},
     "output_type": "execute_result"
    }
   ],
   "source": [
    "mx = mx.subs({\"a\": aa, \"b\": bb, \"c\": cc, \"G\": gg})\n",
    "mx"
   ]
  },
  {
   "cell_type": "code",
   "execution_count": 11,
   "id": "4e0d8002",
   "metadata": {},
   "outputs": [
    {
     "data": {
      "text/latex": [
       "$\\displaystyle - \\frac{G a}{2} + R_{5} a$"
      ],
      "text/plain": [
       "-G*a/2 + R_5*a"
      ]
     },
     "execution_count": 11,
     "metadata": {},
     "output_type": "execute_result"
    }
   ],
   "source": [
    "my = R_5 * a - G * a / 2\n",
    "my"
   ]
  },
  {
   "cell_type": "code",
   "execution_count": 12,
   "id": "901bae9d",
   "metadata": {},
   "outputs": [
    {
     "data": {
      "text/latex": [
       "$\\displaystyle 4 R_{5} - 36$"
      ],
      "text/plain": [
       "4*R_5 - 36"
      ]
     },
     "execution_count": 12,
     "metadata": {},
     "output_type": "execute_result"
    }
   ],
   "source": [
    "my = my.subs({\"a\": aa, \"G\": gg})\n",
    "my"
   ]
  },
  {
   "cell_type": "code",
   "execution_count": 13,
   "id": "0fdbfea6",
   "metadata": {},
   "outputs": [
    {
     "data": {
      "text/latex": [
       "$\\displaystyle - P a - \\frac{R_{4} a b}{\\sqrt{a^{2} + c^{2}}}$"
      ],
      "text/plain": [
       "-P*a - R_4*a*b/sqrt(a**2 + c**2)"
      ]
     },
     "execution_count": 13,
     "metadata": {},
     "output_type": "execute_result"
    }
   ],
   "source": [
    "mz = -P*a - R_4*b*a/sp.sqrt(a**2 + c**2)\n",
    "mz"
   ]
  },
  {
   "cell_type": "code",
   "execution_count": 14,
   "id": "b2404292",
   "metadata": {},
   "outputs": [
    {
     "data": {
      "text/latex": [
       "$\\displaystyle - 3.38659512618095 R_{4} - 120$"
      ],
      "text/plain": [
       "-3.38659512618095*R_4 - 120"
      ]
     },
     "execution_count": 14,
     "metadata": {},
     "output_type": "execute_result"
    }
   ],
   "source": [
    "mz = mz.subs({\"a\":aa, \"b\":bb, \"c\":cc, \"P\":pp})\n",
    "mz"
   ]
  },
  {
   "cell_type": "code",
   "execution_count": 15,
   "id": "97846165",
   "metadata": {},
   "outputs": [],
   "source": [
    "equations = [ox, oy, oz, mx, my, mz]\n",
    "variables = [R_1, R_2, R_3, R_4, R_5, R_6]\n",
    "solution = sp.linsolve(equations, variables)\n",
    "r1, r2, r3, r4, r5, r6 = solution.args[0]"
   ]
  },
  {
   "cell_type": "code",
   "execution_count": 16,
   "id": "487adb80",
   "metadata": {},
   "outputs": [
    {
     "name": "stdout",
     "output_type": "stream",
     "text": [
      "R_1: -19.6666666666667 \n",
      "R_2: 38.0058475033046 \n",
      "R_3: 5.33333333333333 \n",
      "R_4: -35.4338193757822 \n",
      "R_5: 9.00000000000000 \n",
      "R_6: 35.4338193757822 \n",
      "\n"
     ]
    }
   ],
   "source": [
    "print(f\"R_1: {r1} \\nR_2: {r2} \\nR_3: {r3} \\nR_4: {r4} \\nR_5: {r5} \\nR_6: {r6} \\n\")"
   ]
  },
  {
   "cell_type": "code",
   "execution_count": null,
   "id": "a3ee018b",
   "metadata": {},
   "outputs": [],
   "source": []
  }
 ],
 "metadata": {
  "kernelspec": {
   "display_name": "Python 3 (ipykernel)",
   "language": "python",
   "name": "python3"
  },
  "language_info": {
   "codemirror_mode": {
    "name": "ipython",
    "version": 3
   },
   "file_extension": ".py",
   "mimetype": "text/x-python",
   "name": "python",
   "nbconvert_exporter": "python",
   "pygments_lexer": "ipython3",
   "version": "3.8.10"
  }
 },
 "nbformat": 4,
 "nbformat_minor": 5
}
